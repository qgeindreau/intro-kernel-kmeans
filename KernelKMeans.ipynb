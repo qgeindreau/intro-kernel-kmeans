{
 "cells": [
  {
   "cell_type": "markdown",
   "id": "b9801f3e-5923-43e0-9072-463fa69f859e",
   "metadata": {},
   "source": [
    "# KMeans\n",
    "\n",
    "\n",
    "## Concept\n",
    "\n",
    "L'algorithme des K-Means fait parti des algorithmes non supervisés de clustering. \n",
    "Un algorithme non supervisé cherche des patterns ou des structures dans les données, il ne cherche pas à prédire une variable.\n",
    "\n",
    "La méthode K-Means vise à répartir N observations en K groupes dans lesquels chaque observation appartient au groupe dont la moyenne est la plus proche (centroïde du groupe).\n",
    "\n",
    "En d'autres termes, il minimise la dissimilarité à l'intérieur des clusters en utilisant la fonction objective :\n",
    "\n",
    ">$ \\min_{C_1, C_2,..., C_k} \\sum^{k}_{i = 1} \\sum_{x \\in C_i} \\left\\| x - u_i \\right\\| ^{2} ~ avec ~ u_i = \\frac{1}{\\lvert C_i \\rvert} \\sum_{x \\in C_i} x$\n",
    "\n",
    "Moins formellement: \n",
    ">Classes tels quel argminSomme des( Sommes des distances intra-classe)\n",
    "\n",
    "- C représente chaque groupe, de 1 à K \n",
    "- $u_i$ repésente le centroïde du groupe i\n",
    "- $x \\in C_i$ est l'ensemble des points associés au cluster $C_i$\n",
    "\n",
    "## L'Algorithme\n",
    "\n",
    "*Début*:\n",
    ">Choisir K points du nuage de points\n",
    "\n",
    "À répéter jusqu'à convergence ou stabilisation de l’inertie:\n",
    ">- Affecter chaque point (élément de la matrice de données) au groupe dont il est le plus proche à son centre.\n",
    ">- Recalculer le centre de chaque cluster  et modifier le centroïde.\n",
    "\n",
    "\n",
    "[Preuve de la consistance](http://www.stat.yale.edu/~pollard/Papers/Pollard81AS.pdf)\n",
    "\n",
    "## Options:\n",
    "Dans l'algorithme des KMeans, l'initialisation est importante, le nombre de boucles avant convergence en est très dépendantes.\n",
    "\n",
    "Il existe plusieurs méthodes d'initialisation, en voici deux parmis les plus populaires:\n",
    "- Méthode aléatoires: On choisit les K centroïdes aléatoirement parmis les points du nuage de points\n",
    "- Méthode Kmeans++: On choisit des points pour centoïdes 'éloignés les uns des autres'\n",
    "\n",
    "Il est également possible d'utilisé d'autres distance que la distance euclidienne, tel que la distance de Manhattan.\n",
    "\n",
    "## En application:\n",
    "\n",
    ">Dans un objectif pédagogique nous allons utiliser des toysets et non des données réel."
   ]
  },
  {
   "cell_type": "code",
   "execution_count": null,
   "id": "d172a783-41f4-4237-ac84-32751164acd1",
   "metadata": {},
   "outputs": [],
   "source": [
    "## Installation des modules si nécessaire\n",
    "%pip install -U scikit-learn\n",
    "%pip install plotly"
   ]
  },
  {
   "cell_type": "code",
   "execution_count": null,
   "id": "e0d7a541-f70b-4186-aad2-de077ebc4b42",
   "metadata": {},
   "outputs": [],
   "source": [
    "#Importation des modules\n",
    "import numpy as np\n",
    "import pandas as pd\n",
    "from sklearn.datasets import make_circles,make_moons,make_blobs\n",
    "import plotly.graph_objects as go\n",
    "from plotly.subplots import make_subplots\n",
    "from sklearn.cluster import KMeans\n",
    "import plotly.express as px"
   ]
  },
  {
   "cell_type": "markdown",
   "id": "4b724232-b389-42aa-bc6b-385ee2c6e379",
   "metadata": {
    "tags": []
   },
   "source": [
    "#### On crée un toyset"
   ]
  },
  {
   "cell_type": "code",
   "execution_count": null,
   "id": "08a9b8e2-ca4e-4f26-b114-d04899af77bc",
   "metadata": {},
   "outputs": [],
   "source": [
    "#Création des données pour visualiser\n",
    "\n",
    "df_blob=pd.DataFrame()\n",
    "X, y_true = make_blobs(\n",
    "    n_samples=300, centers=4, cluster_std=0.50, random_state=0\n",
    ")\n",
    "df_blob['x'],df_blob['y'],df_blob['color']=X[:,0],X[:,1],y_true\n",
    "px.scatter(x=df_blob['x'],y=df_blob['y'],color=df_blob['color'])"
   ]
  },
  {
   "cell_type": "code",
   "execution_count": null,
   "id": "2356143b-cec2-4d96-a408-1faa5a390e7d",
   "metadata": {},
   "outputs": [],
   "source": [
    "#Fonction pour visualiser les espaces d'attribution du kmeans\n",
    "def plot_decision(clf,df):\n",
    "    lrange = np.arange(min(df['x']), 1.5*max(df['x']), .02)\n",
    "    wrange = np.arange(min(df['y']), max(df['y']), .02)\n",
    "    ll, ww = np.meshgrid(lrange, wrange)\n",
    "    pred = clf.predict(np.c_[ll.ravel(), ww.ravel()])\n",
    "    fig=go.Heatmap(\n",
    "        x=ll.ravel(),\n",
    "        y=ww.ravel(),\n",
    "        z=pred,  #<-Sureté d'attribution selon le classifieur\n",
    "        colorscale='RdBu',#Echelle de couleur utilisée\n",
    "        opacity=0.5,#Transparence du fond\n",
    "        customdata=pred,#Pour avoir des données en + \n",
    "        hovertemplate='''Abscisse: %{x:.3f}<br>Ordonnée: %{y:.3f}\n",
    "               <br>Classe: %{customdata:.3f} ''',visible=False\n",
    "        #affichage sur l'étiquette\n",
    "    )\n",
    "    return fig"
   ]
  },
  {
   "cell_type": "markdown",
   "id": "c730b351-b4bf-4898-8c1f-b1a8a309b3b8",
   "metadata": {
    "tags": []
   },
   "source": [
    "#### Visualisation de l'évolution des clusters par les KMeans dans le cas où une spéaration linéaire est possible"
   ]
  },
  {
   "cell_type": "code",
   "execution_count": null,
   "id": "67ea142f-4e6c-4f11-869c-9d3e69c6a421",
   "metadata": {},
   "outputs": [],
   "source": [
    "import warnings\n",
    "warnings.filterwarnings('ignore')\n",
    "\n",
    "fig = go.Figure()\n",
    "\n",
    "for step in range(1,10):\n",
    "    kms_c = KMeans(n_clusters=4, init=df_blob[df_blob['color']==0][['x','y']][4:8].values, n_init=1, max_iter=step, tol=0.00001, verbose=0, random_state=None, copy_x=True, algorithm='auto').fit(df_blob[['x','y']])\n",
    "    fig.add_trace(plot_decision(kms_c,df_blob))\n",
    "    fig.add_trace(go.Scatter(mode='markers',x=kms_c.cluster_centers_[:,0],y=kms_c.cluster_centers_[:,1],marker_color='black',marker_size=10))\n",
    "\n",
    "fig.data[0].visible = True\n",
    "fig.add_trace(go.Scatter(mode='markers',x=df_blob['x'],y=df_blob['y'],marker_color=df_blob['color']))\n",
    "steps = []\n",
    "for i in range(int((len(fig.data))/2)):\n",
    "    step = dict(\n",
    "        method=\"update\",\n",
    "        args=[{\"visible\": [False] * (len(fig.data))},\n",
    "              {\"title\": \"Cluster après : \" + str(i)+' étapes'}],\n",
    "    )\n",
    "    step[\"args\"][0][\"visible\"][2*i] = True\n",
    "    step[\"args\"][0][\"visible\"][2*i+1] = True\n",
    "    step[\"args\"][0][\"visible\"][len(fig.data)-1] = True\n",
    "    steps.append(step)\n",
    "\n",
    "sliders = [dict(\n",
    "    active=0,\n",
    "    currentvalue={\"prefix\": \"Nombres de tours de boucles: \"},\n",
    "    pad={\"t\": 50},\n",
    "    steps=steps\n",
    ")]\n",
    "\n",
    "fig.update_layout(\n",
    "    sliders=sliders\n",
    ")\n",
    "\n",
    "fig.show()\n"
   ]
  },
  {
   "cell_type": "code",
   "execution_count": null,
   "id": "f0fa3cd7-cd06-413f-8c01-a5093985bfd8",
   "metadata": {},
   "outputs": [],
   "source": [
    "del fig #Pour regagner un peu de mémoire"
   ]
  },
  {
   "cell_type": "markdown",
   "id": "399e540b-a1f7-4ef0-814d-d76ec3804b5a",
   "metadata": {
    "tags": []
   },
   "source": [
    "### Maintenant plaçons nous dans le cas où une séparation linéaire n'est pas possible:"
   ]
  },
  {
   "cell_type": "code",
   "execution_count": null,
   "id": "88c510b1-9b78-4ca4-912c-e52a507a43af",
   "metadata": {},
   "outputs": [],
   "source": [
    "A=make_circles(n_samples=1000, shuffle=True, noise=0.003, random_state=None,factor=0.2)\n",
    "df_circle = pd.DataFrame({'x':A[0][:,0],'y':A[0][:,1],'color':A[1]})\n",
    "\n",
    "\n",
    "A=make_moons(n_samples=1000, shuffle=True, noise=None, random_state=None)\n",
    "df_moon = pd.DataFrame({'x':A[0][:,0],'y':A[0][:,1],'color':A[1]})\n",
    "del A\n",
    "\n",
    "px.scatter(x=df_circle['x'],y=df_circle['y'],color=df_circle['color'])"
   ]
  },
  {
   "cell_type": "markdown",
   "id": "2c58c52f-c9bd-48f7-bc4c-29f2ba367806",
   "metadata": {
    "tags": []
   },
   "source": [
    "### Voyons comment évolue notre algorithme de K-Means sur de tels données"
   ]
  },
  {
   "cell_type": "code",
   "execution_count": null,
   "id": "ca275266-30ea-4cbb-8bcf-b92f1f38890e",
   "metadata": {},
   "outputs": [],
   "source": [
    "fig = go.Figure()\n",
    "\n",
    "for step in range(1,10):\n",
    "    kms_c = KMeans(n_clusters=2, init=df_circle[df_circle['color']==0][['x','y']][:2].values, n_init=1, max_iter=step, tol=0.00001, verbose=0, random_state=None, copy_x=True, algorithm='auto').fit(df_circle[['x','y']])\n",
    "    fig.add_trace(plot_decision(kms_c,df_circle))\n",
    "    fig.add_trace(go.Scatter(mode='markers',x=kms_c.cluster_centers_[:,0],y=kms_c.cluster_centers_[:,1],marker_color='black',marker_size=10))\n",
    "\n",
    "fig.data[0].visible = True\n",
    "fig.add_trace(go.Scatter(mode='markers',x=df_circle['x'],y=df_circle['y'],marker_color=df_circle['color']))\n",
    "steps = []\n",
    "for i in range(int((len(fig.data))/2)):\n",
    "    step = dict(\n",
    "        method=\"update\",\n",
    "        args=[{\"visible\": [False] * (len(fig.data))},\n",
    "              {\"title\": \"Cluster après : \" + str(i)+' étapes'}],\n",
    "    )\n",
    "    step[\"args\"][0][\"visible\"][2*i] = True\n",
    "    step[\"args\"][0][\"visible\"][2*i+1] = True\n",
    "    step[\"args\"][0][\"visible\"][len(fig.data)-1] = True\n",
    "    steps.append(step)\n",
    "\n",
    "sliders = [dict(\n",
    "    active=0,\n",
    "    currentvalue={\"prefix\": \"Nombres de tours de boucles: \"},\n",
    "    pad={\"t\": 50},\n",
    "    steps=steps\n",
    ")]\n",
    "\n",
    "fig.update_layout(\n",
    "    sliders=sliders\n",
    ")\n",
    "\n",
    "fig.show()\n"
   ]
  },
  {
   "cell_type": "code",
   "execution_count": null,
   "id": "dff5ef09-a5ef-4f91-8398-4971755ceecb",
   "metadata": {},
   "outputs": [],
   "source": [
    "del fig"
   ]
  },
  {
   "cell_type": "markdown",
   "id": "0c4a249c-8724-4e0f-bd0b-82e9ff0d7d8c",
   "metadata": {},
   "source": [
    "*On voit très clairement que les clusters formées ne sont pas convenables* ( Même si ici, un choix désastreux pour l'initialisation n'arrange pas les choses)\n",
    "\n",
    "C'est dans ce genre de situations que l'utilisation de la version kernel des kmeans est nécessaire."
   ]
  },
  {
   "cell_type": "markdown",
   "id": "101fb0ee-40f7-4f80-b054-87125d825ef8",
   "metadata": {},
   "source": [
    "## Concept\n",
    "\n",
    "### L'idée derrière les kernels kmeans est de ne plus considérer les coordonnées de notre nuage de point mais de considérer les coordonnées engendrés par le noyau de nos points, pour être un peu plus clair, on va utiliser quelques exemples assez simple."
   ]
  },
  {
   "cell_type": "markdown",
   "id": "d20d2181-18e9-4cf6-a2b1-538d5293e68a",
   "metadata": {},
   "source": [
    "#### Par visualisation vis à vis de deux points"
   ]
  },
  {
   "cell_type": "code",
   "execution_count": null,
   "id": "45bb3f56-f14b-4aef-8d5c-3471f767a7ad",
   "metadata": {},
   "outputs": [],
   "source": [
    "from sklearn.metrics.pairwise import pairwise_kernels\n",
    "fig = make_subplots(\n",
    "    rows=1, cols=2,\n",
    "    column_widths=[0.6, 0.4],\n",
    "    specs=[[{\"type\": \"scatter\"}, {\"type\": \"scatter\"}]])\n",
    "\n",
    "p_d_b=pd.DataFrame(np.random.rand(15,2))\n",
    "p_d_b['indice']=[i for i in range(len(p_d_b))]\n",
    "n_pdb=p_d_b.copy()\n",
    "n_pdb[[0,1]]=pairwise_kernels(X=p_d_b[[0,1]],Y=[[1,0],[0,1]],metric='rbf')\n",
    "fig.add_trace(go.Scatter(mode='markers+text',x=p_d_b[0],y=p_d_b[1],marker_color=p_d_b['indice'],text=p_d_b['indice']),row=1,col=1)\n",
    "fig.add_trace(go.Scatter(mode='markers+text',x=n_pdb[0],y=n_pdb[1],marker_color=n_pdb['indice'],text=n_pdb['indice']),row=1,col=2)\n",
    "\n",
    "fig.show()"
   ]
  },
  {
   "cell_type": "markdown",
   "id": "9b50c4d3-faee-4046-aa91-515b0ba8d09f",
   "metadata": {},
   "source": [
    "#### Visualisation de la heatmap permuté du kernel des points de df_circle"
   ]
  },
  {
   "cell_type": "code",
   "execution_count": null,
   "id": "5a7ccb98-f684-4cdf-a89f-96fdcc2d88ff",
   "metadata": {},
   "outputs": [],
   "source": [
    "from scipy.sparse import csr_matrix\n",
    "from scipy.sparse.csgraph import reverse_cuthill_mckee\n",
    "mat=df_circle[['x','y']].values\n",
    "def visuel(L,cut):\n",
    "    def change(B):\n",
    "        A=B.copy()\n",
    "        graph = csr_matrix(A)\n",
    "        perm = reverse_cuthill_mckee(graph,symmetric_mode=True)\n",
    "        for i in range(len(perm)):\n",
    "            A[:,i]=A[perm,i]\n",
    "        for i in range(len(perm)):   \n",
    "            A[i,:]=A[i,perm]\n",
    "        return A\n",
    "    A=L.copy()\n",
    "    A[A<cut]=0\n",
    "    Lr=change(A)\n",
    "    fig = px.imshow(Lr)\n",
    "    return fig\n",
    "visuel(pairwise_kernels(X=mat,metric='rbf',gamma=15),0.2).show()"
   ]
  },
  {
   "cell_type": "markdown",
   "id": "4683c9ca-71c3-4a90-b8be-b6bf57bf8fc7",
   "metadata": {},
   "source": [
    "#### Je pense que la matrice ci dessus permets bien de voir la présence de deux clusters, même si, en pratique, la différence n'est pas aussi visible.\n",
    "\n",
    "Très clairement on voit qu'une moitié des points ont pour coordonnées significatives une moitié des axes et l'autre moitié des points l'autre moitié des axes."
   ]
  },
  {
   "cell_type": "markdown",
   "id": "0017ae1c-752e-4f97-830c-794b6c3d0384",
   "metadata": {},
   "source": [
    "## Application du kernel k-means"
   ]
  },
  {
   "cell_type": "code",
   "execution_count": null,
   "id": "3c92fd0f-7ab4-4d84-af0e-508afadbfe5d",
   "metadata": {},
   "outputs": [],
   "source": [
    "def plot_decision_kernel(clf,df,**kwargs):\n",
    "    '''\n",
    "    Fonction pour afficher en fond les cluster attribués par le kernel-kmean\n",
    "    '''\n",
    "    lrange = np.arange(min(df['x']), 1.5*max(df['x']), .02)\n",
    "    wrange = np.arange(min(df['y']), max(df['y']), .02)\n",
    "    ll, ww = np.meshgrid(lrange, wrange)\n",
    "    pred = clf.predict(pairwise_kernels(X=np.c_[ll.ravel(), ww.ravel()],Y=df[['x','y']],**kwargs))\n",
    "    fig=go.Heatmap(\n",
    "        x=ll.ravel(),\n",
    "        y=ww.ravel(),\n",
    "        z=pred,  #<-Cluster prédit\n",
    "        colorscale='RdBu',#Echelle de couleur utilisée\n",
    "        opacity=0.5,#Transparence du fond\n",
    "        customdata=pred,#Pour avoir des données en + \n",
    "        hovertemplate='''Abscisse: %{x:.3f}<br>Ordonnée: %{y:.3f}\n",
    "               <br>Classe: %{customdata:.3f} '''\n",
    "        #affichage sur l'étiquette\n",
    "    )\n",
    "    return fig\n",
    "\n",
    "fig = make_subplots(\n",
    "    rows=4, cols=2,\n",
    "    specs=[[{\"type\": \"scatter\"}, {\"type\": \"scatter\"}],\n",
    "          [{\"type\": \"scatter\"}, {\"type\": \"scatter\"}],\n",
    "          [{\"type\": \"scatter\"}, {\"type\": \"scatter\"}],\n",
    "          [{\"type\": \"scatter\"}, {\"type\": \"scatter\"}]],\n",
    "subplot_titles=(\"Cercle\", \"Moon\",\"Cercle rbf:1\", \"Moon rbf:1\",\"Cercle rbf:15\", \"Moon rbf:15\",\"Cercle rbf:100\", \"Moon rbf:100\"))\n",
    "fig.add_trace(go.Scatter(mode='markers',x=df_circle['x'],y=df_circle['y'],marker_color=df_circle['color']),row=1,col=1)\n",
    "fig.add_trace(go.Scatter(mode='markers',x=df_moon['x'],y=df_moon['y'],marker_color=df_moon['color']),row=1,col=2)\n",
    "for i in zip([1,15,100],[2,3,4]):\n",
    "    kernel=pairwise_kernels(df_circle[['x','y']],metric='rbf',gamma=i[0])\n",
    "    clf=KMeans(n_clusters=2, init='k-means++', n_init=10, max_iter=300, tol=0.0001, verbose=0, random_state=None, copy_x=True, algorithm='auto').fit(kernel)\n",
    "    fig.add_trace(plot_decision_kernel(clf,df_circle,metric='rbf',gamma=i[0]),col=1,row=i[1])\n",
    "    fig.add_trace(go.Scatter(mode='markers',x=df_circle['x'],y=df_circle['y'],marker_color=clf.labels_),col=1,row=i[1])\n",
    "    \n",
    "for i in zip([1,15,100],[2,3,4]):\n",
    "    kernel=pairwise_kernels(df_moon[['x','y']],metric='rbf',gamma=i[0])\n",
    "    clf=KMeans(n_clusters=2, init='k-means++', n_init=100, max_iter=30000, tol=0.0001, verbose=0, random_state=0, copy_x=True, algorithm='auto').fit(kernel)\n",
    "    fig.add_trace(plot_decision_kernel(clf,df_moon,metric='rbf',gamma=i[0]),col=2,row=i[1])\n",
    "    fig.add_trace(go.Scatter(mode='markers',x=df_moon['x'],y=df_moon['y'],marker_color=clf.labels_),col=2,row=i[1])"
   ]
  },
  {
   "cell_type": "code",
   "execution_count": null,
   "id": "7f42f68f-0575-44a0-b49f-8da72283b127",
   "metadata": {},
   "outputs": [],
   "source": [
    "fig.update_layout(template='plotly_dark',showlegend=False)\n",
    "fig.show(renderer='browser',title_text=\"Plot des frontière de cluster selon noyau\")"
   ]
  },
  {
   "cell_type": "markdown",
   "id": "9fe5ae00-982c-4481-954d-b18fb77d2169",
   "metadata": {},
   "source": [
    "## Question: Comment choisir le nombre de cluster ?\n",
    "[Source](https://medium.com/analytics-vidhya/how-to-determine-the-optimal-k-for-k-means-708505d204eb)"
   ]
  },
  {
   "cell_type": "markdown",
   "id": "10364c40-d7f1-40dc-91a4-773fea0d7d94",
   "metadata": {},
   "source": [
    "### Méthode du coude sur l'inertie"
   ]
  },
  {
   "cell_type": "code",
   "execution_count": null,
   "id": "5431126c-d83b-4ad7-953c-ee5ac3a362c7",
   "metadata": {},
   "outputs": [],
   "source": [
    "#Sur le blob\n",
    "px.line(x=[i for i in range(1,10)],y=[KMeans(n_clusters=i, init='k-means++', n_init=10).fit(df_blob[['x','y']]).inertia_ for i in range(1,10)])"
   ]
  },
  {
   "cell_type": "markdown",
   "id": "ee7bac1f-0ff6-4c31-9b5a-eef51c3c2014",
   "metadata": {},
   "source": [
    "#### On prends le coude le plus resseré"
   ]
  },
  {
   "cell_type": "markdown",
   "id": "25a3307a-4cbd-458b-8a25-7c12ee0004a4",
   "metadata": {},
   "source": [
    "### Méthode de la silhouette"
   ]
  },
  {
   "cell_type": "code",
   "execution_count": null,
   "id": "a84e2607-9916-4c22-9912-9a44c8f7ce4b",
   "metadata": {},
   "outputs": [],
   "source": [
    "from sklearn.metrics import silhouette_score\n",
    "\n",
    "sil = []\n",
    "kmax = 10\n",
    "\n",
    "# dissimilarity would not be defined for a single cluster, thus, minimum number of clusters should be 2\n",
    "for k in range(2, kmax+1):\n",
    "    kmeans = KMeans(n_clusters = k).fit(df_blob[['x','y']])\n",
    "    labels = kmeans.labels_\n",
    "    sil.append(silhouette_score(df_blob[['x','y']], labels, metric = 'euclidean'))\n",
    "    \n",
    "px.line(x=[i for i in range(1,10)],y=sil)"
   ]
  },
  {
   "cell_type": "markdown",
   "id": "a02a5eac-d684-4fe5-8839-ff41e9dbe5d1",
   "metadata": {},
   "source": [
    "### On prend la valeurs la plus haute"
   ]
  },
  {
   "cell_type": "markdown",
   "id": "89742e5a-8a43-4e27-9ff0-5b7305d7d3d8",
   "metadata": {},
   "source": [
    "## Question: Comment choisir le noyau ?"
   ]
  },
  {
   "cell_type": "markdown",
   "id": "f8ad5549-8e67-41dd-8cf8-e2b1d238f272",
   "metadata": {},
   "source": [
    "### Je n'ai pas trouvé de guide de bonnes pratiques, cependant:\n",
    "#### /!\\ Intuition personnelle, rien de fondé\n",
    "#### J'ai l'impression qu'avec une visualisation tel que celle de la matrice du kernel, on peut observer quelques petites chose:"
   ]
  },
  {
   "cell_type": "code",
   "execution_count": null,
   "id": "a86145c0-031c-4221-a862-e373081834b2",
   "metadata": {},
   "outputs": [],
   "source": [
    "mat=mat=df_moon[['x','y']].values\n",
    "visuel(pairwise_kernels(X=mat,metric='rbf',gamma=1),0.1).show()"
   ]
  },
  {
   "cell_type": "code",
   "execution_count": null,
   "id": "d9d4a1ff-31e2-4750-bc65-0413d19672b7",
   "metadata": {},
   "outputs": [],
   "source": [
    "visuel(pairwise_kernels(X=mat,metric='rbf',gamma=15),0.1).show()"
   ]
  },
  {
   "cell_type": "code",
   "execution_count": null,
   "id": "a3b3fc89-f84d-43c2-9fb7-a151620e191b",
   "metadata": {},
   "outputs": [],
   "source": [
    "visuel(pairwise_kernels(X=mat,metric='rbf',gamma=100),0.1).show()"
   ]
  },
  {
   "cell_type": "code",
   "execution_count": null,
   "id": "7bef9bcf-0bbe-43fa-ac80-3517a29fb3c9",
   "metadata": {},
   "outputs": [],
   "source": []
  }
 ],
 "metadata": {
  "kernelspec": {
   "display_name": "Python 3 (ipykernel)",
   "language": "python",
   "name": "python3"
  },
  "language_info": {
   "codemirror_mode": {
    "name": "ipython",
    "version": 3
   },
   "file_extension": ".py",
   "mimetype": "text/x-python",
   "name": "python",
   "nbconvert_exporter": "python",
   "pygments_lexer": "ipython3",
   "version": "3.9.7"
  }
 },
 "nbformat": 4,
 "nbformat_minor": 5
}
